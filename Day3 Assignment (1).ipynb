{
 "cells": [
  {
   "cell_type": "markdown",
   "metadata": {},
   "source": [
    "# Assignment: 1"
   ]
  },
  {
   "cell_type": "code",
   "execution_count": 7,
   "metadata": {},
   "outputs": [
    {
     "name": "stdout",
     "output_type": "stream",
     "text": [
      "enter the value:6000\n",
      "Turn around\n"
     ]
    }
   ],
   "source": [
    "feet=int(input(\"enter the value:\"))\n",
    "if feet <= 1000:\n",
    "    print(\"Safe to land\")\n",
    "elif feet >= 1000 and feet <= 5000:\n",
    "    print(\"Bring down to 1000\")\n",
    "else:\n",
    "    print(\"Turn around\")\n",
    "    "
   ]
  },
  {
   "cell_type": "markdown",
   "metadata": {},
   "source": [
    "# Assignment : 2"
   ]
  },
  {
   "cell_type": "markdown",
   "metadata": {},
   "source": [
    "Using for loop please print all the prime numbers between 1-200 using for loop and range funtion"
   ]
  },
  {
   "cell_type": "code",
   "execution_count": null,
   "metadata": {},
   "outputs": [],
   "source": [
    "lower=1\n",
    "upper=200\n",
    "\n",
    "print(\"prime numbers between \",lower, \"and\", upper, \"are:\")\n",
    "for num in range(lower,upper+1):\n",
    "    if num>1:\n",
    "        for i in range(2,num):\n",
    "            if(num%i)==0:\n",
    "                break\n",
    "            else:\n",
    "                print(num)\n"
   ]
  },
  {
   "cell_type": "code",
   "execution_count": null,
   "metadata": {},
   "outputs": [],
   "source": []
  }
 ],
 "metadata": {
  "kernelspec": {
   "display_name": "Python 3",
   "language": "python",
   "name": "python3"
  },
  "language_info": {
   "codemirror_mode": {
    "name": "ipython",
    "version": 3
   },
   "file_extension": ".py",
   "mimetype": "text/x-python",
   "name": "python",
   "nbconvert_exporter": "python",
   "pygments_lexer": "ipython3",
   "version": "3.8.3"
  }
 },
 "nbformat": 4,
 "nbformat_minor": 4
}
