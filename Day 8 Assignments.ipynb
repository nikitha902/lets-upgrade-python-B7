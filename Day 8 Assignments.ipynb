{
 "cells": [
  {
   "cell_type": "markdown",
   "metadata": {},
   "source": [
    "# Day 8 Assignment 1"
   ]
  },
  {
   "cell_type": "markdown",
   "metadata": {},
   "source": [
    "for this challenge you need to develop a Python program to open a file in read only mode and try writing something to it and handle the subsequent errors using Exception Handling."
   ]
  },
  {
   "cell_type": "code",
   "execution_count": 1,
   "metadata": {},
   "outputs": [],
   "source": [
    "file=open(\"Nikitha.txt\",'w')\n",
    "file.write(\"We are learning Python through LetsUpgrade\")\n",
    "file.close()"
   ]
  },
  {
   "cell_type": "code",
   "execution_count": 2,
   "metadata": {},
   "outputs": [
    {
     "name": "stdout",
     "output_type": "stream",
     "text": [
      "We are learning Python through LetsUpgrade\n"
     ]
    }
   ],
   "source": [
    "file=open(\"Nikitha.txt\",'r')\n",
    "text=file.read()\n",
    "print(text)\n",
    "file.close()"
   ]
  },
  {
   "cell_type": "code",
   "execution_count": 5,
   "metadata": {},
   "outputs": [
    {
     "name": "stdout",
     "output_type": "stream",
     "text": [
      "we are in try block\n",
      "There was an error -  not writable\n",
      "We are in finally block\n"
     ]
    }
   ],
   "source": [
    "#error Handling\n",
    "\n",
    "try:\n",
    "    print(\"we are in try block\")\n",
    "    file=open(\"Nikitha.txt\",'r')\n",
    "    statement=file.read()\n",
    "    file.write(\"we are learning python\")\n",
    "    print(statement)\n",
    "    \n",
    "except Exception as e:\n",
    "    print(\"There was an error - \",e)\n",
    "\n",
    "finally:\n",
    "    print(\"We are in finally block\")\n",
    "    file.close()"
   ]
  },
  {
   "cell_type": "markdown",
   "metadata": {},
   "source": [
    "# Day 8 Assignment"
   ]
  },
  {
   "cell_type": "markdown",
   "metadata": {},
   "source": [
    "write a decorator function for your taking input for you any kind of function you want to build."
   ]
  },
  {
   "cell_type": "code",
   "execution_count": 12,
   "metadata": {},
   "outputs": [],
   "source": [
    "def memoize(function):\n",
    "    cache = {}\n",
    "\n",
    "    def decorated_function(*args):\n",
    "        if args in cache:\n",
    "            return cache[args]\n",
    "        else:\n",
    "            val = function(*args)\n",
    "            cache[args] = val\n",
    "            return val\n",
    "    return decorated_function\n"
   ]
  },
  {
   "cell_type": "code",
   "execution_count": 11,
   "metadata": {},
   "outputs": [
    {
     "name": "stdout",
     "output_type": "stream",
     "text": [
      "13.775400218999948\n"
     ]
    }
   ],
   "source": [
    "import timeit\n",
    "\n",
    "def fib(n):\n",
    "    if n < 2:\n",
    "        return n\n",
    "    else:\n",
    "        return fib(n-1) + fib(n-2)\n",
    "\n",
    "t1 = timeit.Timer(\"fib(35)\", \"from __main__ import fib\")\n",
    "print( t1.timeit(1))"
   ]
  },
  {
   "cell_type": "code",
   "execution_count": null,
   "metadata": {},
   "outputs": [],
   "source": []
  }
 ],
 "metadata": {
  "kernelspec": {
   "display_name": "Python 3",
   "language": "python",
   "name": "python3"
  },
  "language_info": {
   "codemirror_mode": {
    "name": "ipython",
    "version": 3
   },
   "file_extension": ".py",
   "mimetype": "text/x-python",
   "name": "python",
   "nbconvert_exporter": "python",
   "pygments_lexer": "ipython3",
   "version": "3.8.3"
  }
 },
 "nbformat": 4,
 "nbformat_minor": 4
}
